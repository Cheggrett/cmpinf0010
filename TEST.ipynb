{
 "cells": [
  {
   "cell_type": "code",
   "execution_count": null,
   "metadata": {},
   "outputs": [],
   "source": [
    "name = input(\"What is your name? \")\n",
    "print(\"Nice to meet you,\", name)\n",
    "\n",
    "num = input(\"Please enter an integer: \")\n",
    "\n",
    "num = int(num) + 5\n",
    "print(num, \"is your input after adding 5\")\n",
    "num -= 5\n",
    "\n",
    "binint = 0\n",
    "power = 0\n",
    "\n",
    "while num > (2**power):\n",
    "    power += 1\n",
    "while power > -1:\n",
    "    binint *= 10\n",
    "    if 2**power <= num:\n",
    "        binint += 1\n",
    "        num -= 2**power\n",
    "    power -= 1\n",
    "\n",
    "print(\"The binary representation of your number is\", binint)"
   ]
  },
  {
   "cell_type": "code",
   "execution_count": null,
   "metadata": {},
   "outputs": [],
   "source": []
  }
 ],
 "metadata": {
  "kernelspec": {
   "display_name": "Python 3 (ipykernel)",
   "language": "python",
   "name": "python3"
  },
  "language_info": {
   "codemirror_mode": {
    "name": "ipython",
    "version": 3
   },
   "file_extension": ".py",
   "mimetype": "text/x-python",
   "name": "python",
   "nbconvert_exporter": "python",
   "pygments_lexer": "ipython3",
   "version": "3.11.7"
  }
 },
 "nbformat": 4,
 "nbformat_minor": 4
}
